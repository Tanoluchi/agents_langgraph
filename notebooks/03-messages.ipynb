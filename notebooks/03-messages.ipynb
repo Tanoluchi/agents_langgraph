{
 "cells": [
  {
   "cell_type": "code",
   "execution_count": 2,
   "id": "8db49531",
   "metadata": {},
   "outputs": [
    {
     "data": {
      "text/plain": [
       "'Hello, how can I assist you today?'"
      ]
     },
     "execution_count": 2,
     "metadata": {},
     "output_type": "execute_result"
    }
   ],
   "source": [
    "from langchain_core.messages import AIMessage\n",
    "\n",
    "ai_message = AIMessage(content=\"Hello, how can I assist you today?\")\n",
    "ai_message.content"
   ]
  },
  {
   "cell_type": "code",
   "execution_count": 3,
   "id": "92f6f6ec",
   "metadata": {},
   "outputs": [
    {
     "data": {
      "text/plain": [
       "'What is the weather like today?'"
      ]
     },
     "execution_count": 3,
     "metadata": {},
     "output_type": "execute_result"
    }
   ],
   "source": [
    "from langchain_core.messages import HumanMessage\n",
    "\n",
    "human_message = HumanMessage(content=\"What is the weather like today?\")\n",
    "human_message.content"
   ]
  },
  {
   "cell_type": "code",
   "execution_count": 4,
   "id": "55432a01",
   "metadata": {},
   "outputs": [
    {
     "name": "stdout",
     "output_type": "stream",
     "text": [
      "==================================\u001b[1m Ai Message \u001b[0m==================================\n",
      "\n",
      "Hello, how can I assist you today?\n",
      "================================\u001b[1m Human Message \u001b[0m=================================\n",
      "\n",
      "What is the weather like today?\n"
     ]
    }
   ],
   "source": [
    "history = [ai_message, human_message]\n",
    "for message in history:\n",
    "    message.pretty_print()"
   ]
  },
  {
   "cell_type": "code",
   "execution_count": 5,
   "id": "1ef1d082",
   "metadata": {},
   "outputs": [
    {
     "data": {
      "text/plain": [
       "[AIMessage(content='Hello, how can I assist you today?', additional_kwargs={}, response_metadata={}),\n",
       " HumanMessage(content='What is the weather like today?', additional_kwargs={}, response_metadata={}),\n",
       " AIMessage(content='The weather is sunny with a high of 75°F.', additional_kwargs={}, response_metadata={})]"
      ]
     },
     "execution_count": 5,
     "metadata": {},
     "output_type": "execute_result"
    }
   ],
   "source": [
    "# Concatenate new message\n",
    "history + [AIMessage(content=\"The weather is sunny with a high of 75°F.\")]"
   ]
  },
  {
   "cell_type": "code",
   "execution_count": null,
   "id": "35266266",
   "metadata": {},
   "outputs": [],
   "source": []
  },
  {
   "cell_type": "code",
   "execution_count": null,
   "id": "e91dac9a",
   "metadata": {},
   "outputs": [],
   "source": []
  }
 ],
 "metadata": {
  "kernelspec": {
   "display_name": "my-course-agent",
   "language": "python",
   "name": "python3"
  },
  "language_info": {
   "codemirror_mode": {
    "name": "ipython",
    "version": 3
   },
   "file_extension": ".py",
   "mimetype": "text/x-python",
   "name": "python",
   "nbconvert_exporter": "python",
   "pygments_lexer": "ipython3",
   "version": "3.13.9"
  }
 },
 "nbformat": 4,
 "nbformat_minor": 5
}
