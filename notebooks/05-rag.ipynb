{
 "cells": [
  {
   "cell_type": "code",
   "execution_count": null,
   "id": "73a6bdfd",
   "metadata": {},
   "outputs": [],
   "source": [
    "from langchain.chat_models import init_chat_model\n",
    "\n",
    "llm = init_chat_model(\"openai:gpt-4o\", temperature=0)"
   ]
  },
  {
   "cell_type": "code",
   "execution_count": null,
   "id": "e42e2045",
   "metadata": {},
   "outputs": [],
   "source": [
    "file_search_tool = {\n",
    "    \"type\": \"file_search\",\n",
    "    \"vector_store_ids\": [\"my_course_docs\"],\n",
    "}\n",
    "llm_with_tools = llm.bind_tools([file_search_tool])"
   ]
  },
  {
   "cell_type": "code",
   "execution_count": null,
   "id": "3d1f5c97",
   "metadata": {},
   "outputs": [],
   "source": [
    "response = llm_with_tools.invoke(\"How to improve the performance of my website?\")\n",
    "response.content\n"
   ]
  }
 ],
 "metadata": {
  "language_info": {
   "name": "python"
  }
 },
 "nbformat": 4,
 "nbformat_minor": 5
}
